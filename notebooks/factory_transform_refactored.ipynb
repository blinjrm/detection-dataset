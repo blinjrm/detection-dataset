{
 "cells": [
  {
   "cell_type": "code",
   "execution_count": 1,
   "id": "b9961561-ec80-4535-9c60-81ea02f7a932",
   "metadata": {},
   "outputs": [],
   "source": [
    "from detection_dataset import Converter"
   ]
  },
  {
   "cell_type": "code",
   "execution_count": 2,
   "id": "74d149b8-0fd2-4f95-99a8-f9bc6248721b",
   "metadata": {},
   "outputs": [
    {
     "data": {
      "text/html": [
       "<div>\n",
       "<style scoped>\n",
       "    .dataframe tbody tr th:only-of-type {\n",
       "        vertical-align: middle;\n",
       "    }\n",
       "\n",
       "    .dataframe tbody tr th {\n",
       "        vertical-align: top;\n",
       "    }\n",
       "\n",
       "    .dataframe thead th {\n",
       "        text-align: right;\n",
       "    }\n",
       "</style>\n",
       "<table border=\"1\" class=\"dataframe\">\n",
       "  <thead>\n",
       "    <tr style=\"text-align: right;\">\n",
       "      <th></th>\n",
       "      <th>image_id</th>\n",
       "      <th>bbox_id</th>\n",
       "      <th>category_id</th>\n",
       "      <th>category</th>\n",
       "      <th>supercategory</th>\n",
       "      <th>bbox</th>\n",
       "      <th>width</th>\n",
       "      <th>height</th>\n",
       "      <th>area</th>\n",
       "      <th>image_name</th>\n",
       "      <th>image_path</th>\n",
       "      <th>split</th>\n",
       "    </tr>\n",
       "  </thead>\n",
       "  <tbody>\n",
       "    <tr>\n",
       "      <th>0</th>\n",
       "      <td>16305</td>\n",
       "      <td>0</td>\n",
       "      <td>32</td>\n",
       "      <td>pocket</td>\n",
       "      <td>garment parts</td>\n",
       "      <td>&lt;detection_dataset.bbox.Bbox object at 0x1653f...</td>\n",
       "      <td>680</td>\n",
       "      <td>1024</td>\n",
       "      <td>3052</td>\n",
       "      <td>2f10b4d61e445fe5d0777723630a2905.jpg</td>\n",
       "      <td>/Users/jeromeblin/self/blinjrm/detection-datas...</td>\n",
       "      <td>train</td>\n",
       "    </tr>\n",
       "  </tbody>\n",
       "</table>\n",
       "</div>"
      ],
      "text/plain": [
       "  image_id bbox_id category_id category  supercategory  \\\n",
       "0    16305       0          32   pocket  garment parts   \n",
       "\n",
       "                                                bbox width height  area  \\\n",
       "0  <detection_dataset.bbox.Bbox object at 0x1653f...   680   1024  3052   \n",
       "\n",
       "                             image_name  \\\n",
       "0  2f10b4d61e445fe5d0777723630a2905.jpg   \n",
       "\n",
       "                                          image_path  split  \n",
       "0  /Users/jeromeblin/self/blinjrm/detection-datas...  train  "
      ]
     },
     "execution_count": 2,
     "metadata": {},
     "output_type": "execute_result"
    }
   ],
   "source": [
    "read_config = {\n",
    "    'dataset_format': 'coco',\n",
    "    'path': '/Users/jeromeblin/self/blinjrm/detection-dataset/data/raw',\n",
    "    'splits': {\n",
    "        'train': ('train.json', 'train'),\n",
    "        'test': ('test.json', 'test'),\n",
    "    },\n",
    "}\n",
    "\n",
    "converter = Converter()\n",
    "converter.read(**read_config)\n",
    "converter.dataset.data.head(1)"
   ]
  },
  {
   "cell_type": "code",
   "execution_count": null,
   "id": "6351019c-7ec2-428e-9113-aba3b32e1963",
   "metadata": {},
   "outputs": [],
   "source": [
    "mapping = converter.dataset.categories.copy()\n",
    "mapping['new_category'] = \"\"\n",
    "mapping['new_category_id'] = \"\"\n",
    "\n",
    "# Clothing\n",
    "mapping.loc[mapping.category_id.isin(range(13)), 'new_category'] = 'clothing'\n",
    "mapping.loc[mapping.category_id.isin(range(13)), 'new_category_id'] = 1\n",
    "\n",
    "# Accessories\n",
    "mapping.loc[mapping.category_id.isin(range(13, 27)), 'new_category'] = 'accessories'\n",
    "mapping.loc[mapping.category_id.isin(range(13, 27)), 'new_category_id'] = 3\n",
    "\n",
    "# Shoes\n",
    "mapping.loc[mapping.category_id == 23, 'new_category'] = \"shoes\"\n",
    "mapping.loc[mapping.category_id == 23, 'new_category_id'] = 2\n",
    "\n",
    "# Other - to be dropped\n",
    "mapping.loc[mapping.category_id.isin(range(27, 46)), 'new_category'] = 'details'\n",
    "mapping.loc[mapping.category_id.isin(range(27, 46)), 'new_category_id'] = -1\n",
    "\n",
    "mapping = mapping[mapping.loc[:, 'new_category_id'] > 0]\n",
    "\n",
    "converter.transform(category_mapping = mapping)\n",
    "converter.dataset.class_names"
   ]
  },
  {
   "cell_type": "code",
   "execution_count": null,
   "id": "3b2aa270-689e-4a9e-9c50-245d5165bc2a",
   "metadata": {
    "tags": []
   },
   "outputs": [],
   "source": [
    "write_config = {\n",
    "    'dataset_format': 'mmdet',\n",
    "    'path': '/Users/jeromeblin/self/blinjrm/detection-dataset/data/',\n",
    "    'name': 'mmdet_refactored',\n",
    "    'n_images': 10,\n",
    "    'splits': (0.8, 0.1, 0.1),\n",
    "}\n",
    "\n",
    "converter.write(**write_config)\n",
    "converter.writer.final_data.sort_values('image_id').head(1)"
   ]
  }
 ],
 "metadata": {
  "kernelspec": {
   "display_name": "Python 3 (ipykernel)",
   "language": "python",
   "name": "python3"
  },
  "language_info": {
   "codemirror_mode": {
    "name": "ipython",
    "version": 3
   },
   "file_extension": ".py",
   "mimetype": "text/x-python",
   "name": "python",
   "nbconvert_exporter": "python",
   "pygments_lexer": "ipython3",
   "version": "3.8.12"
  }
 },
 "nbformat": 4,
 "nbformat_minor": 5
}
