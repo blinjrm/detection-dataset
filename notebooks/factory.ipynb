{
 "cells": [
  {
   "cell_type": "code",
   "execution_count": 1,
   "id": "b9961561-ec80-4535-9c60-81ea02f7a932",
   "metadata": {},
   "outputs": [],
   "source": [
    "import numpy as np\n",
    "from detection_dataset import Converter"
   ]
  },
  {
   "cell_type": "code",
   "execution_count": 2,
   "id": "74d149b8-0fd2-4f95-99a8-f9bc6248721b",
   "metadata": {},
   "outputs": [
    {
     "data": {
      "text/html": [
       "<div>\n",
       "<style scoped>\n",
       "    .dataframe tbody tr th:only-of-type {\n",
       "        vertical-align: middle;\n",
       "    }\n",
       "\n",
       "    .dataframe tbody tr th {\n",
       "        vertical-align: top;\n",
       "    }\n",
       "\n",
       "    .dataframe thead th {\n",
       "        text-align: right;\n",
       "    }\n",
       "</style>\n",
       "<table border=\"1\" class=\"dataframe\">\n",
       "  <thead>\n",
       "    <tr style=\"text-align: right;\">\n",
       "      <th></th>\n",
       "      <th>image_id</th>\n",
       "      <th>bbox_id</th>\n",
       "      <th>category_id</th>\n",
       "      <th>category</th>\n",
       "      <th>supercategory</th>\n",
       "      <th>bbox</th>\n",
       "      <th>width</th>\n",
       "      <th>height</th>\n",
       "      <th>area</th>\n",
       "      <th>image_name</th>\n",
       "      <th>image_path</th>\n",
       "      <th>split</th>\n",
       "    </tr>\n",
       "  </thead>\n",
       "  <tbody>\n",
       "    <tr>\n",
       "      <th>0</th>\n",
       "      <td>16305</td>\n",
       "      <td>0</td>\n",
       "      <td>32</td>\n",
       "      <td>pocket</td>\n",
       "      <td>garment parts</td>\n",
       "      <td>&lt;detection_dataset.bbox.Bbox object at 0x11809...</td>\n",
       "      <td>680</td>\n",
       "      <td>1024</td>\n",
       "      <td>3052</td>\n",
       "      <td>2f10b4d61e445fe5d0777723630a2905.jpg</td>\n",
       "      <td>/Users/jeromeblin/self/blinjrm/detection-datas...</td>\n",
       "      <td>train</td>\n",
       "    </tr>\n",
       "  </tbody>\n",
       "</table>\n",
       "</div>"
      ],
      "text/plain": [
       "  image_id bbox_id category_id category  supercategory  \\\n",
       "0    16305       0          32   pocket  garment parts   \n",
       "\n",
       "                                                bbox width height  area  \\\n",
       "0  <detection_dataset.bbox.Bbox object at 0x11809...   680   1024  3052   \n",
       "\n",
       "                             image_name  \\\n",
       "0  2f10b4d61e445fe5d0777723630a2905.jpg   \n",
       "\n",
       "                                          image_path  split  \n",
       "0  /Users/jeromeblin/self/blinjrm/detection-datas...  train  "
      ]
     },
     "execution_count": 2,
     "metadata": {},
     "output_type": "execute_result"
    }
   ],
   "source": [
    "read_config = {\n",
    "    'dataset_format': 'coco',\n",
    "    'path': '/Users/jeromeblin/self/blinjrm/detection-dataset/data/raw',\n",
    "    'splits': {\n",
    "        'train': ('train.json', 'train'),\n",
    "        'test': ('test.json', 'test'),\n",
    "    },\n",
    "}\n",
    "\n",
    "converter = Converter()\n",
    "converter.read(**read_config)\n",
    "converter.dataset.data.head(1)"
   ]
  },
  {
   "cell_type": "code",
   "execution_count": 3,
   "id": "40ee202e-82fb-4e57-9302-9fb18594376d",
   "metadata": {},
   "outputs": [
    {
     "data": {
      "text/plain": [
       "'/Users/jeromeblin/self/blinjrm/detection-dataset/data/raw/train/2f10b4d61e445fe5d0777723630a2905.jpg'"
      ]
     },
     "execution_count": 3,
     "metadata": {},
     "output_type": "execute_result"
    }
   ],
   "source": [
    "converter.dataset.data.image_path[3]"
   ]
  },
  {
   "cell_type": "code",
   "execution_count": 4,
   "id": "6351019c-7ec2-428e-9113-aba3b32e1963",
   "metadata": {},
   "outputs": [
    {
     "data": {
      "text/plain": [
       "array(['clothing', 'shoes', 'accessories'], dtype=object)"
      ]
     },
     "execution_count": 4,
     "metadata": {},
     "output_type": "execute_result"
    }
   ],
   "source": [
    "mapping = converter.dataset.categories.copy()\n",
    "mapping['new_category'] = \"\"\n",
    "mapping['new_category_id'] = \"\"\n",
    "\n",
    "# Clothing\n",
    "mapping.loc[mapping.category_id.isin(range(13)), 'new_category'] = 'clothing'\n",
    "mapping.loc[mapping.category_id.isin(range(13)), 'new_category_id'] = 1\n",
    "\n",
    "# Accessories\n",
    "mapping.loc[mapping.category_id.isin(range(13, 27)), 'new_category'] = 'accessories'\n",
    "mapping.loc[mapping.category_id.isin(range(13, 27)), 'new_category_id'] = 3\n",
    "\n",
    "# Shoes\n",
    "mapping.loc[mapping.category_id == 23, 'new_category'] = \"shoes\"\n",
    "mapping.loc[mapping.category_id == 23, 'new_category_id'] = 2\n",
    "\n",
    "# Other - to be dropped\n",
    "mapping.loc[mapping.category_id.isin(range(27, 46)), 'new_category'] = 'details'\n",
    "mapping.loc[mapping.category_id.isin(range(27, 46)), 'new_category_id'] = -1\n",
    "\n",
    "mapping = mapping[mapping.loc[:, 'new_category_id'] > 0]\n",
    "\n",
    "converter.transform(category_mapping = mapping)\n",
    "converter.dataset.class_names"
   ]
  },
  {
   "cell_type": "code",
   "execution_count": 5,
   "id": "3b2aa270-689e-4a9e-9c50-245d5165bc2a",
   "metadata": {
    "tags": []
   },
   "outputs": [
    {
     "name": "stdout",
     "output_type": "stream",
     "text": [
      "/Users/jeromeblin/self/blinjrm/detection-dataset/data/raw/train/d7ae9bcf2c221c7cdb914588a8db9239.jpg\n",
      "14757.jpg\n",
      "/Users/jeromeblin/self/blinjrm/detection-dataset/data/raw/train/9203f17f150d9d5301d51a2bd500e49d.jpg\n",
      "3226.jpg\n",
      "/Users/jeromeblin/self/blinjrm/detection-dataset/data/raw/train/0fbe2264711709d20ae06107f1663715.jpg\n",
      "1083.jpg\n",
      "/Users/jeromeblin/self/blinjrm/detection-dataset/data/raw/train/9b43eabd7aab6fcf1fd0b0470a403bcd.jpg\n",
      "8780.jpg\n",
      "/Users/jeromeblin/self/blinjrm/detection-dataset/data/raw/train/be2020ffb491e551cafe52b837c5d1f3.jpg\n",
      "17663.jpg\n",
      "/Users/jeromeblin/self/blinjrm/detection-dataset/data/raw/train/86e2c1b67f0f085b7e51cf1072e983b7.jpg\n",
      "21242.jpg\n",
      "/Users/jeromeblin/self/blinjrm/detection-dataset/data/raw/train/699b6d90d43f4d48b387124d45e3be89.jpg\n",
      "23244.jpg\n",
      "/Users/jeromeblin/self/blinjrm/detection-dataset/data/raw/train/211af2d6dbee3543366be67910c76f62.jpg\n",
      "6508.jpg\n",
      "/Users/jeromeblin/self/blinjrm/detection-dataset/data/raw/train/6c6c791a25a7d8727aaaff7db74bfe32.jpg\n",
      "48182.jpg\n",
      "/Users/jeromeblin/self/blinjrm/detection-dataset/data/raw/train/bbcca12a27d033294903560235d844f7.jpg\n",
      "50452.jpg\n"
     ]
    },
    {
     "data": {
      "text/html": [
       "<div>\n",
       "<style scoped>\n",
       "    .dataframe tbody tr th:only-of-type {\n",
       "        vertical-align: middle;\n",
       "    }\n",
       "\n",
       "    .dataframe tbody tr th {\n",
       "        vertical-align: top;\n",
       "    }\n",
       "\n",
       "    .dataframe thead th {\n",
       "        text-align: right;\n",
       "    }\n",
       "</style>\n",
       "<table border=\"1\" class=\"dataframe\">\n",
       "  <thead>\n",
       "    <tr style=\"text-align: right;\">\n",
       "      <th></th>\n",
       "      <th>image_id</th>\n",
       "      <th>bbox_id</th>\n",
       "      <th>category_id</th>\n",
       "      <th>bbox</th>\n",
       "      <th>width</th>\n",
       "      <th>height</th>\n",
       "      <th>area</th>\n",
       "      <th>image_name</th>\n",
       "      <th>image_path</th>\n",
       "      <th>split</th>\n",
       "    </tr>\n",
       "  </thead>\n",
       "  <tbody>\n",
       "    <tr>\n",
       "      <th>1012</th>\n",
       "      <td>1083</td>\n",
       "      <td>[163625, 163626, 163627, 163631, 163638, 16363...</td>\n",
       "      <td>[3, 1, 3, 1, 1, 2, 2]</td>\n",
       "      <td>[[287.0, 455.0, 300.0, 466.0], [181.0, 196.0, ...</td>\n",
       "      <td>633</td>\n",
       "      <td>1024</td>\n",
       "      <td>[102, 4427, 2575, 60754, 41148, 3143, 2801]</td>\n",
       "      <td>0fbe2264711709d20ae06107f1663715.jpg</td>\n",
       "      <td>/Users/jeromeblin/self/blinjrm/detection-datas...</td>\n",
       "      <td>train</td>\n",
       "    </tr>\n",
       "  </tbody>\n",
       "</table>\n",
       "</div>"
      ],
      "text/plain": [
       "      image_id                                            bbox_id  \\\n",
       "1012      1083  [163625, 163626, 163627, 163631, 163638, 16363...   \n",
       "\n",
       "                category_id  \\\n",
       "1012  [3, 1, 3, 1, 1, 2, 2]   \n",
       "\n",
       "                                                   bbox width height  \\\n",
       "1012  [[287.0, 455.0, 300.0, 466.0], [181.0, 196.0, ...   633   1024   \n",
       "\n",
       "                                             area  \\\n",
       "1012  [102, 4427, 2575, 60754, 41148, 3143, 2801]   \n",
       "\n",
       "                                image_name  \\\n",
       "1012  0fbe2264711709d20ae06107f1663715.jpg   \n",
       "\n",
       "                                             image_path  split  \n",
       "1012  /Users/jeromeblin/self/blinjrm/detection-datas...  train  "
      ]
     },
     "execution_count": 5,
     "metadata": {},
     "output_type": "execute_result"
    }
   ],
   "source": [
    "write_config = {\n",
    "    'dataset_format': 'mmdet',\n",
    "    'path': '/Users/jeromeblin/self/blinjrm/detection-dataset/data/',\n",
    "    'name': 'mmdet_test',\n",
    "    'n_images': 10,\n",
    "    'splits': (0.8, 0.1, 0.1),\n",
    "}\n",
    "\n",
    "converter.write(**write_config)\n",
    "converter.writer.final_data.sort_values('image_id').head(1)"
   ]
  }
 ],
 "metadata": {
  "kernelspec": {
   "display_name": "Python 3 (ipykernel)",
   "language": "python",
   "name": "python3"
  },
  "language_info": {
   "codemirror_mode": {
    "name": "ipython",
    "version": 3
   },
   "file_extension": ".py",
   "mimetype": "text/x-python",
   "name": "python",
   "nbconvert_exporter": "python",
   "pygments_lexer": "ipython3",
   "version": "3.8.12"
  }
 },
 "nbformat": 4,
 "nbformat_minor": 5
}
